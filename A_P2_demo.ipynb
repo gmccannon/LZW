{
 "cells": [
  {
   "cell_type": "code",
   "execution_count": 6,
   "id": "f7560448",
   "metadata": {},
   "outputs": [
    {
     "name": "stdout",
     "output_type": "stream",
     "text": [
      "[84, 79, 66, 69, 79, 82, 78, 79, 84, 256, 258, 260, 265, 259, 261, 263]\n",
      "TOBEORNOTTOBEORTOBEORNOT\n"
     ]
    }
   ],
   "source": [
    "# from [https://rosettacode.org/wiki/LZW_compression#Python]\n",
    "# Python LZW\n",
    "\n",
    "def compress(uncompressed):\n",
    "    \"\"\"Compress a string to a list of output symbols.\"\"\"\n",
    "\n",
    "    # Build the dictionary.\n",
    "    dict_size = 256\n",
    "    dictionary = dict((chr(i), i) for i in range(dict_size))\n",
    "    # in Python 3: dictionary = {chr(i): i for i in range(dict_size)}\n",
    "\n",
    "    w = \"\"\n",
    "    result = []\n",
    "    for c in uncompressed:\n",
    "        wc = w + c\n",
    "        if wc in dictionary:\n",
    "            w = wc\n",
    "        else:\n",
    "            result.append(dictionary[w])\n",
    "            # Add wc to the dictionary.\n",
    "            dictionary[wc] = dict_size\n",
    "            dict_size += 1\n",
    "            w = c\n",
    "\n",
    "    # Output the code for w.\n",
    "    if w:\n",
    "        result.append(dictionary[w])\n",
    "    return result\n",
    "\n",
    "\n",
    "def decompress(compressed):\n",
    "    \"\"\"Decompress a list of output ks to a string.\"\"\"\n",
    "    from io import StringIO\n",
    "\n",
    "    # Build the dictionary.\n",
    "    dict_size = 256\n",
    "    dictionary = dict((i, chr(i)) for i in range(dict_size))\n",
    "    # in Python 3: dictionary = {i: chr(i) for i in range(dict_size)}\n",
    "\n",
    "    # use StringIO, otherwise this becomes O(N^2)\n",
    "    # due to string concatenation in a loop\n",
    "    result = StringIO()\n",
    "    w = chr(compressed.pop(0))\n",
    "    result.write(w)\n",
    "    for k in compressed:\n",
    "        if k in dictionary:\n",
    "            entry = dictionary[k]\n",
    "        elif k == dict_size:\n",
    "            entry = w + w[0]\n",
    "        else:\n",
    "            raise ValueError('Bad compressed k: %s' % k)\n",
    "        result.write(entry)\n",
    "\n",
    "        # Add w+entry[0] to the dictionary.\n",
    "        dictionary[dict_size] = w + entry[0]\n",
    "        dict_size += 1\n",
    "\n",
    "        w = entry\n",
    "    return result.getvalue()\n",
    "\n",
    "\n",
    "# How to use:\n",
    "compressed = compress('TOBEORNOTTOBEORTOBEORNOT')\n",
    "print (compressed)\n",
    "\n",
    "decompressed = decompress(compressed)\n",
    "print (decompressed)"
   ]
  },
  {
   "cell_type": "code",
   "execution_count": 7,
   "id": "64644f06",
   "metadata": {},
   "outputs": [
    {
     "name": "stdout",
     "output_type": "stream",
     "text": [
      "The 10-bit binary representation of 2634 is: 101001001010\n"
     ]
    }
   ],
   "source": [
    "# example to convert decimal_number to a binary string\n",
    "decimal_number =2634\n",
    "\n",
    "# Convert to binary and remove the '0b' prefix --> (string representation) \n",
    "binary_representation = bin(decimal_number)[2:]\n",
    "\n",
    "# Pad with leading zeros to make it 10 bits\n",
    "binary_10_bit = binary_representation.zfill(10)\n",
    "\n",
    "print(f\"The 10-bit binary representation of {decimal_number} is: {binary_10_bit}\")"
   ]
  },
  {
   "cell_type": "code",
   "execution_count": 8,
   "id": "8421de7f",
   "metadata": {},
   "outputs": [
    {
     "name": "stdout",
     "output_type": "stream",
     "text": [
      "The integer value of the binary string 00100000111 is: 263\n"
     ]
    }
   ],
   "source": [
    "# example to turn a binary string to int\n",
    "binary_string = \"00100000111\"  # Example binary string\n",
    "\n",
    "# Convert binary string to integer\n",
    "decimal_number = int(binary_string, 2)\n",
    "\n",
    "print(f\"The integer value of the binary string {binary_string} is: {decimal_number}\")"
   ]
  },
  {
   "cell_type": "code",
   "execution_count": 9,
   "id": "c388638b",
   "metadata": {},
   "outputs": [
    {
     "name": "stdout",
     "output_type": "stream",
     "text": [
      "The character corresponding to ASCII code 65 is: A\n",
      "The ASCII code for 'A' is: 65\n",
      "The byte representation is: b'A'\n"
     ]
    }
   ],
   "source": [
    "# as you can see from the python code for LZW, to convert int ascii_code <--> char\n",
    "ascii_code = 65\n",
    "character = chr(ascii_code)\n",
    "\n",
    "print(f\"The character corresponding to ASCII code {ascii_code} is: {character}\")\n",
    "\n",
    "# Encode the character using ASCII\n",
    "encoded_byte = ord(character)\n",
    "\n",
    "print(f\"The ASCII code for '{character}' is: {encoded_byte}\")\n",
    "\n",
    "# If you want to save it as a bytes object (one byte)\n",
    "byte_representation = bytes([encoded_byte])\n",
    "print(f\"The byte representation is: {byte_representation}\")\n"
   ]
  },
  {
   "cell_type": "code",
   "execution_count": 10,
   "id": "cc3676fe",
   "metadata": {},
   "outputs": [
    {
     "name": "stdout",
     "output_type": "stream",
     "text": [
      "Byte representation has been saved to byte_representation.txt\n"
     ]
    }
   ],
   "source": [
    "# file operation -- write\n",
    "\n",
    "byte_representation = bytes([65, 66, 67])  # Example byte representation\n",
    "\n",
    "# Specify the file path\n",
    "file_path = \"byte_representation.txt\"\n",
    "\n",
    "# Open the file in binary mode ('wb') to write bytes\n",
    "with open(file_path, 'wb') as file:\n",
    "    file.write(byte_representation)\n",
    "\n",
    "print(f\"Byte representation has been saved to {file_path}\")\n"
   ]
  },
  {
   "cell_type": "code",
   "execution_count": 11,
   "id": "cb531bcf",
   "metadata": {},
   "outputs": [
    {
     "name": "stdout",
     "output_type": "stream",
     "text": [
      "Content of byte_representation.txt: b'ABC'\n",
      "Binary string representation (custom function): 010000010100001001000011\n",
      "Decoded content: ABC\n"
     ]
    }
   ],
   "source": [
    "# file operation -- read \n",
    "\n",
    "# Custom function to convert bytes to a binary string\n",
    "def bytes_to_binary_string(byte_data):\n",
    "    return ''.join(format(byte, '08b') for byte in byte_data)\n",
    "\n",
    "file_path = \"byte_representation.txt\"\n",
    "\n",
    "# Open the file in binary read mode ('rb')\n",
    "with open(file_path, 'rb') as file:\n",
    "    # Read the content of the file\n",
    "    file_content = file.read()\n",
    "\n",
    "# Display the content (as a bytes object)\n",
    "print(f\"Content of {file_path}: {file_content}\")\n",
    "\n",
    "# Use the function to convert file content to a binary string\n",
    "binary_string_custom = bytes_to_binary_string(file_content)\n",
    "\n",
    "print(f\"Binary string representation (custom function): {binary_string_custom}\")\n",
    "\n",
    "# If you want to decode the bytes to a string (assuming it's text)\n",
    "decoded_content = file_content.decode('utf-8')\n",
    "\n",
    "print(f\"Decoded content: {decoded_content}\")"
   ]
  },
  {
   "cell_type": "code",
   "execution_count": 2,
   "id": "8ed492d4",
   "metadata": {},
   "outputs": [
    {
     "name": "stdout",
     "output_type": "stream",
     "text": [
      "The content of the files is different.\n"
     ]
    }
   ],
   "source": [
    "# a simpler version of unix diff\n",
    "\n",
    "def compare_files(file_path1, file_path2):\n",
    "    with open(file_path1, 'rb') as file1, open(file_path2, 'rb') as file2:\n",
    "        content1 = file1.read()\n",
    "        content2 = file2.read()\n",
    "\n",
    "    return content1 == content2\n",
    "\n",
    "# Example usage:\n",
    "file1_path = \"file.txt\"\n",
    "file2_path = \"file.txt.2M\"\n",
    "\n",
    "if compare_files(file1_path, file2_path):\n",
    "    print(\"The content of the files is identical.\")\n",
    "else:\n",
    "    print(\"The content of the files is different.\")"
   ]
  },
  {
   "cell_type": "code",
   "execution_count": null,
   "id": "0643e720",
   "metadata": {},
   "outputs": [],
   "source": []
  }
 ],
 "metadata": {
  "kernelspec": {
   "display_name": "Python 3 (ipykernel)",
   "language": "python",
   "name": "python3"
  },
  "language_info": {
   "codemirror_mode": {
    "name": "ipython",
    "version": 3
   },
   "file_extension": ".py",
   "mimetype": "text/x-python",
   "name": "python",
   "nbconvert_exporter": "python",
   "pygments_lexer": "ipython3",
   "version": "3.10.12"
  }
 },
 "nbformat": 4,
 "nbformat_minor": 5
}
