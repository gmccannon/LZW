{
 "cells": [
  {
   "cell_type": "code",
   "execution_count": 1,
   "id": "f7560448",
   "metadata": {},
   "outputs": [],
   "source": [
    "# DO NOT delete this cell. \n",
    "# \n",
    "# This is the name of the file to be compressed.  \n",
    "# Yes, you can create your own test cases and you should.\n",
    "\n",
    "filename = \"bible2.txt\""
   ]
  },
  {
   "cell_type": "code",
   "execution_count": 2,
   "id": "f3da3f06",
   "metadata": {},
   "outputs": [
    {
     "name": "stdout",
     "output_type": "stream",
     "text": [
      "bible2.txt\n",
      "bible2.txt.lzw2\n"
     ]
    }
   ],
   "source": [
    "def LZW_compress(fname):\n",
    "    print(fname)\n",
    "    print(fname+\".lzw2\")\n",
    "    \n",
    "    # open and read the file\n",
    "    with open(fname, 'rb') as f:\n",
    "        data = f.read()\n",
    "\n",
    "    # define the dictionary to be build\n",
    "    entry = 256\n",
    "    dictionary = {bytes([i]): i for i in range(entry)}\n",
    "\n",
    "    # compress\n",
    "    result = []\n",
    "    w = b\"\"\n",
    "    for c in data:\n",
    "        wc = w + bytes([c])\n",
    "        if wc in dictionary:\n",
    "            w = wc\n",
    "        else:\n",
    "            result.append(dictionary[w])\n",
    "            if entry < pow(2, 12): # max of 12 bits\n",
    "                dictionary[wc] = entry\n",
    "                entry += 1\n",
    "            w = bytes([c])\n",
    "    if w:\n",
    "        result.append(dictionary[w])\n",
    "\n",
    "    # open and write to file\n",
    "    with open(fname + \".lzw\", 'wb') as f:\n",
    "        for code in result:\n",
    "            binary_int = code & 0xFFFF # Convert the LZW code to a 16-bit binary representation\n",
    "            f.write(binary_int.to_bytes(2, byteorder='big')) # 16 bits = 2 bytes\n",
    "\n",
    "# keep this line \n",
    "LZW_compress(filename)\n"
   ]
  },
  {
   "cell_type": "code",
   "execution_count": 3,
   "id": "9c1c9ee8",
   "metadata": {},
   "outputs": [
    {
     "name": "stdout",
     "output_type": "stream",
     "text": [
      "bible2.txt.lzw\n",
      "bible2.txt.2\n"
     ]
    }
   ],
   "source": [
    "# you'll expand the file named filename.lzw, and save the decompressed as filename+\".2\"\n",
    "# keep the function name\n",
    "def LZW_expand(fname):\n",
    "    print(fname)\n",
    "    print(fname[:-4]+\".2\")\n",
    "    \n",
    "    # open and read the compressed file\n",
    "    compressed_data = []\n",
    "    with open(fname, 'rb') as f:\n",
    "        while True:\n",
    "            chunk = f.read(2) # 2 bytes for each single codeword\n",
    "            if not chunk:\n",
    "                break\n",
    "            compressed_data.append(int.from_bytes(chunk, 'big'))\n",
    "\n",
    "    # define the dictionary to be build     \n",
    "    entry = 256   \n",
    "    dictionary = {i: bytes([i]) for i in range(entry)}\n",
    "    \n",
    "    # decompress\n",
    "    result = bytearray()\n",
    "    w = bytearray()\n",
    "    for code in compressed_data:\n",
    "        if code in dictionary:\n",
    "            entry_str = dictionary[code]\n",
    "        elif code == entry:\n",
    "            entry_str = w + bytes([w[0]])\n",
    "        else:\n",
    "            raise ValueError(\"Bad compressed code\")\n",
    "        result += entry_str\n",
    "        if w:\n",
    "            dictionary[entry] = w + bytes([entry_str[0]])\n",
    "            entry += 1\n",
    "        w = entry_str\n",
    "\n",
    "    # open and write to file\n",
    "    with open(fname[:-4]+\".2\", 'wb') as f:\n",
    "        f.write(result)\n",
    "\n",
    "# keep this line \n",
    "LZW_expand(filename +\".lzw\")"
   ]
  }
 ],
 "metadata": {
  "kernelspec": {
   "display_name": "Python 3 (ipykernel)",
   "language": "python",
   "name": "python3"
  },
  "language_info": {
   "codemirror_mode": {
    "name": "ipython",
    "version": 3
   },
   "file_extension": ".py",
   "mimetype": "text/x-python",
   "name": "python",
   "nbconvert_exporter": "python",
   "pygments_lexer": "ipython3",
   "version": "3.10.12"
  }
 },
 "nbformat": 4,
 "nbformat_minor": 5
}
