{
 "cells": [
  {
   "cell_type": "code",
   "execution_count": 1,
   "id": "f7560448",
   "metadata": {},
   "outputs": [],
   "source": [
    "# DO NOT delete this cell. \n",
    "# \n",
    "# This is the name of the file to be compressed.  \n",
    "# Yes, you can create your own test cases and you should.\n",
    "\n",
    "filename = \"bible2.txt\""
   ]
  },
  {
   "cell_type": "code",
   "execution_count": 2,
   "id": "dad37c88",
   "metadata": {},
   "outputs": [],
   "source": [
    "# LZW/ Your code \n",
    "\n",
    "\n"
   ]
  },
  {
   "cell_type": "code",
   "execution_count": 3,
   "id": "f3da3f06",
   "metadata": {},
   "outputs": [
    {
     "name": "stdout",
     "output_type": "stream",
     "text": [
      "bible2.txt\n",
      "bible2.txt.lzw\n"
     ]
    }
   ],
   "source": [
    "# you will compress the file named filename, and save the compressed as filename+\".lzw\"\n",
    "# keep the function name\n",
    "def LZW_compress(fname):\n",
    "    print(fname)\n",
    "    print(fname+\".lzw\")\n",
    "    # your code here\n",
    "    \n",
    "# keep this line \n",
    "LZW_compress(filename)"
   ]
  },
  {
   "cell_type": "code",
   "execution_count": 6,
   "id": "9c1c9ee8",
   "metadata": {},
   "outputs": [
    {
     "name": "stdout",
     "output_type": "stream",
     "text": [
      "bible2.txt.lzw\n",
      "bible2.txt.2\n"
     ]
    }
   ],
   "source": [
    "# you'll expand the file named filename.lzw, and save the decompressed as filename+\".2\"\n",
    "# keep the function name\n",
    "def LZW_expand(fname):\n",
    "    print(fname)\n",
    "    print(fname[:-4]+\".2\")\n",
    "    # your code here\n",
    "    \n",
    "# keep this line \n",
    "LZW_expand(filename +\".lzw\")"
   ]
  },
  {
   "cell_type": "code",
   "execution_count": 4,
   "id": "17fa652f",
   "metadata": {},
   "outputs": [
    {
     "name": "stdout",
     "output_type": "stream",
     "text": [
      "bible2.txt\n",
      "bible2.txt.lzw2\n"
     ]
    }
   ],
   "source": [
    "# keep the function name\n",
    "def LZW_modified_compress(fname):\n",
    "    print(fname)\n",
    "    print(fname+\".lzw2\")\n",
    "    # your code here\n",
    "    \n",
    "# keep this line    \n",
    "LZW_modified_compress(filename)"
   ]
  },
  {
   "cell_type": "code",
   "execution_count": 9,
   "id": "ccc7088d",
   "metadata": {},
   "outputs": [
    {
     "name": "stdout",
     "output_type": "stream",
     "text": [
      "bible2.txt.lzw2\n",
      "bible2.txt.2M\n"
     ]
    }
   ],
   "source": [
    "# keep the function name\n",
    "def LZW_modified_expand(fname):\n",
    "    print(fname)\n",
    "    print(fname[:-5]+\".2M\")\n",
    "    # your code here\n",
    "    \n",
    "# keep this line    \n",
    "LZW_modified_expand(filename+\".lzw2\")"
   ]
  },
  {
   "cell_type": "code",
   "execution_count": null,
   "id": "4dae7220",
   "metadata": {},
   "outputs": [],
   "source": []
  }
 ],
 "metadata": {
  "kernelspec": {
   "display_name": "Python 3 (ipykernel)",
   "language": "python",
   "name": "python3"
  },
  "language_info": {
   "codemirror_mode": {
    "name": "ipython",
    "version": 3
   },
   "file_extension": ".py",
   "mimetype": "text/x-python",
   "name": "python",
   "nbconvert_exporter": "python",
   "pygments_lexer": "ipython3",
   "version": "3.10.9"
  }
 },
 "nbformat": 4,
 "nbformat_minor": 5
}
