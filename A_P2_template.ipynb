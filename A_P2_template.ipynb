{
 "cells": [
  {
   "cell_type": "code",
   "execution_count": 36,
   "id": "f7560448",
   "metadata": {},
   "outputs": [],
   "source": [
    "# DO NOT delete this cell. \n",
    "# \n",
    "# This is the name of the file to be compressed.  \n",
    "# Yes, you can create your own test cases and you should.\n",
    "\n",
    "filename = \"file.txt\""
   ]
  },
  {
   "cell_type": "code",
   "execution_count": 41,
   "id": "f3da3f06",
   "metadata": {},
   "outputs": [
    {
     "name": "stdout",
     "output_type": "stream",
     "text": [
      "file.txt\n",
      "file.txt.lzw2\n"
     ]
    }
   ],
   "source": [
    "def LZW_compress(fname):\n",
    "    print(fname)\n",
    "    print(fname+\".lzw2\")\n",
    "    \n",
    "    # open and read the file\n",
    "    with open(fname, 'rb') as f:\n",
    "        data = f.read()\n",
    "\n",
    "    # define the dictionary to be build  \n",
    "    dictionary = {bytes([i]): i for i in range(256)}\n",
    "\n",
    "    # compress\n",
    "    result = []\n",
    "    w = b\"\"\n",
    "    for c in data:\n",
    "        wc = w + bytes([c])\n",
    "        if wc in dictionary:\n",
    "            w = wc\n",
    "        else:\n",
    "            result.append(dictionary[w])\n",
    "            dictionary[wc] = len(dictionary)\n",
    "            w = bytes([c])\n",
    "    if w:\n",
    "        result.append(dictionary[w])\n",
    "\n",
    "    # open and write to file\n",
    "    with open(fname + \".lzw\", 'wb') as f:\n",
    "        for code in result:\n",
    "            f.write(code.to_bytes(9, 'big'))\n",
    "\n",
    "# keep this line \n",
    "LZW_compress(filename)\n"
   ]
  },
  {
   "cell_type": "code",
   "execution_count": 44,
   "id": "9c1c9ee8",
   "metadata": {},
   "outputs": [
    {
     "name": "stdout",
     "output_type": "stream",
     "text": [
      "file.txt.lzw\n",
      "file.txt.2\n"
     ]
    }
   ],
   "source": [
    "# you'll expand the file named filename.lzw, and save the decompressed as filename+\".2\"\n",
    "# keep the function name\n",
    "def LZW_expand(fname):\n",
    "    print(fname)\n",
    "    print(fname[:-4]+\".2\")\n",
    "    \n",
    "    # open and read the compressed file\n",
    "    compressed_data = []\n",
    "    with open(fname, 'rb') as f:\n",
    "        while True:\n",
    "            chunk = f.read(9)\n",
    "            if not chunk:\n",
    "                break\n",
    "            compressed_data.append(int.from_bytes(chunk, 'big'))\n",
    "\n",
    "    # define the dictionary to be build        \n",
    "    dictionary = {i: bytes([i]) for i in range(256)}\n",
    "    entry = 256\n",
    "    \n",
    "    # decompress\n",
    "    result = bytearray()\n",
    "    w = bytearray()\n",
    "    for code in compressed_data:\n",
    "        if code in dictionary:\n",
    "            entry_str = dictionary[code]\n",
    "        elif code == entry:\n",
    "            entry_str = w + bytes([w[0]])\n",
    "        else:\n",
    "            raise ValueError(\"Bad compressed code\")\n",
    "        result += entry_str\n",
    "        if w:\n",
    "            dictionary[entry] = w + bytes([entry_str[0]])\n",
    "            entry += 1\n",
    "        w = entry_str\n",
    "\n",
    "    # open and write to file\n",
    "    with open(fname[:-4]+\".2\", 'wb') as f:\n",
    "        f.write(result)\n",
    "\n",
    "# keep this line \n",
    "LZW_expand(filename +\".lzw\")"
   ]
  },
  {
   "cell_type": "code",
   "execution_count": 28,
   "id": "17fa652f",
   "metadata": {},
   "outputs": [
    {
     "name": "stdout",
     "output_type": "stream",
     "text": [
      "3\n"
     ]
    }
   ],
   "source": [
    "# keep the function name\n",
    "def LZW_modified_compress(fname):\n",
    "    print(fname)\n",
    "    print(fname+\".lzw2\")\n",
    "    # your code here\n",
    "    \n",
    "# keep this line    \n",
    "LZW_modified_compress(filename)"
   ]
  },
  {
   "cell_type": "code",
   "execution_count": 30,
   "id": "ccc7088d",
   "metadata": {},
   "outputs": [
    {
     "name": "stdout",
     "output_type": "stream",
     "text": [
      "file.txt.lzw2\n",
      "file.txt.2M\n"
     ]
    }
   ],
   "source": [
    "# keep the function name\n",
    "def LZW_modified_expand(fname):\n",
    "    print(fname)\n",
    "    print(fname[:-5]+\".2M\")\n",
    "    # your code here\n",
    "    \n",
    "# keep this line    \n",
    "LZW_modified_expand(filename+\".lzw2\")"
   ]
  },
  {
   "cell_type": "code",
   "execution_count": null,
   "id": "4dae7220",
   "metadata": {},
   "outputs": [],
   "source": []
  }
 ],
 "metadata": {
  "kernelspec": {
   "display_name": "Python 3 (ipykernel)",
   "language": "python",
   "name": "python3"
  },
  "language_info": {
   "codemirror_mode": {
    "name": "ipython",
    "version": 3
   },
   "file_extension": ".py",
   "mimetype": "text/x-python",
   "name": "python",
   "nbconvert_exporter": "python",
   "pygments_lexer": "ipython3",
   "version": "3.10.12"
  }
 },
 "nbformat": 4,
 "nbformat_minor": 5
}
